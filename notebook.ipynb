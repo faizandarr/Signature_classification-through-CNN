{
 "cells": [
  {
   "cell_type": "code",
   "execution_count": 2,
   "metadata": {},
   "outputs": [
    {
     "name": "stdout",
     "output_type": "stream",
     "text": [
      "Requirement already satisfied: opencv-python in c:\\users\\faiza\\appdata\\local\\programs\\python\\python312\\lib\\site-packages (4.10.0.84)\n",
      "Requirement already satisfied: numpy>=1.21.2 in c:\\users\\faiza\\appdata\\local\\programs\\python\\python312\\lib\\site-packages (from opencv-python) (1.26.4)\n",
      "Note: you may need to restart the kernel to use updated packages.\n"
     ]
    }
   ],
   "source": [
    "import cv2\n",
    "import numpy as np\n",
    "\n",
    "# Load the image\n",
    "img = cv2.imread('Signature_classification\\\\Data\\\\1.jpg')\n",
    "\n",
    "# Resize the image for better performance (adjust scale_percent as needed)\n",
    "scale_percent = 60  # you can adjust this based on your image size\n",
    "width = int(img.shape[1] * scale_percent / 100)\n",
    "height = int(img.shape[0] * scale_percent / 100)\n",
    "dim = (width, height)\n",
    "img = cv2.resize(img, dim, interpolation=cv2.INTER_AREA)\n",
    "\n",
    "# Convert to grayscale\n",
    "gray = cv2.cvtColor(img, cv2.COLOR_BGR2GRAY)\n",
    "\n",
    "# Apply Gaussian blurring to reduce noise\n",
    "blurred = cv2.GaussianBlur(gray, (5, 5), 0)\n",
    "\n",
    "# Apply adaptive thresholding to highlight the grid and cells\n",
    "thresh = cv2.adaptiveThreshold(blurred, 255, cv2.ADAPTIVE_THRESH_MEAN_C, \n",
    "                               cv2.THRESH_BINARY_INV, 11, 2)\n",
    "\n",
    "# Use morphological closing to enhance grid lines and connect cells\n",
    "kernel = np.ones((3, 3), np.uint8)\n",
    "closed = cv2.morphologyEx(thresh, cv2.MORPH_CLOSE, kernel, iterations=2)\n",
    "\n",
    "# Find contours of each cell in the grid\n",
    "contours, _ = cv2.findContours(closed, cv2.RETR_TREE, cv2.CHAIN_APPROX_SIMPLE)\n",
    "\n",
    "# Define a minimum and maximum area threshold to filter out small contours (signatures)\n",
    "min_contour_area = 70000  # Minimum area for grid cells (adjust as needed)\n",
    "max_contour_area = 300000  # Maximum area for grid cells (adjust as needed)\n",
    "\n",
    "# Define an aspect ratio range for grid cells\n",
    "min_aspect_ratio = 0.5  # Minimum aspect ratio (to avoid detecting signatures)\n",
    "max_aspect_ratio = 1000  # Maximum aspect ratio (adjust based on grid shape)\n",
    "\n",
    "# Draw contours of each valid grid block\n",
    "result = img.copy()\n",
    "for cnt in contours:\n",
    "    x, y, w, h = cv2.boundingRect(cnt)\n",
    "    contour_area = w * h\n",
    "    aspect_ratio = w / h\n",
    "    \n",
    "    # Filter out contours that are either too small or too large or have an irregular aspect ratio\n",
    "    if min_contour_area < contour_area < max_contour_area and min_aspect_ratio < aspect_ratio < max_aspect_ratio:\n",
    "        cv2.rectangle(result, (x, y), (x + w, y + h), (0, 255, 0), 2)\n",
    "\n",
    "# Show the result with filtered grid blocks (ignoring signatures)\n",
    "cv2.imshow('Filtered Grid Cells Only', result)\n",
    "cv2.waitKey(0)\n",
    "cv2.destroyAllWindows()\n",
    "\n",
    "# Save the result\n",
    "cv2.imwrite('filtered_grid_only2.jpg', result)\n"
   ]
  },
  {
   "cell_type": "code",
   "execution_count": 4,
   "metadata": {},
   "outputs": [],
   "source": [
    "import cv2\n",
    "import numpy as np\n",
    "import os\n",
    "\n",
    "image = cv2.imread('D:\\\\University\\\\Semester 7\\\\Generative AI\\\\Assignment_1\\\\Signature_classification\\\\Data\\\\1.jpg')"
   ]
  },
  {
   "cell_type": "code",
   "execution_count": 11,
   "metadata": {},
   "outputs": [],
   "source": [
    "gray = cv2.cvtColor(image, cv2.COLOR_BGR2GRAY)\n",
    "_, thresh = cv2.threshold(gray, 200, 255, cv2.THRESH_BINARY_INV)"
   ]
  },
  {
   "cell_type": "code",
   "execution_count": 12,
   "metadata": {},
   "outputs": [],
   "source": [
    "contours, _ = cv2.findContours(thresh, cv2.RETR_TREE, cv2.CHAIN_APPROX_SIMPLE)"
   ]
  },
  {
   "cell_type": "code",
   "execution_count": 13,
   "metadata": {},
   "outputs": [],
   "source": [
    "cell_contours = [cnt for cnt in contours if 5000 < cv2.contourArea(cnt) < 50000]"
   ]
  },
  {
   "cell_type": "code",
   "execution_count": 14,
   "metadata": {},
   "outputs": [
    {
     "ename": "ValueError",
     "evalue": "not enough values to unpack (expected 2, got 0)",
     "output_type": "error",
     "traceback": [
      "\u001b[1;31m---------------------------------------------------------------------------\u001b[0m",
      "\u001b[1;31mValueError\u001b[0m                                Traceback (most recent call last)",
      "Cell \u001b[1;32mIn[14], line 9\u001b[0m\n\u001b[0;32m      5\u001b[0m     (cnts, boundingBoxes) \u001b[38;5;241m=\u001b[39m \u001b[38;5;28mzip\u001b[39m(\u001b[38;5;241m*\u001b[39m\u001b[38;5;28msorted\u001b[39m(\u001b[38;5;28mzip\u001b[39m(cnts, boundingBoxes),\n\u001b[0;32m      6\u001b[0m         key\u001b[38;5;241m=\u001b[39m\u001b[38;5;28;01mlambda\u001b[39;00m b:b[\u001b[38;5;241m1\u001b[39m][i], reverse\u001b[38;5;241m=\u001b[39mreverse))\n\u001b[0;32m      7\u001b[0m     \u001b[38;5;28;01mreturn\u001b[39;00m cnts, boundingBoxes\n\u001b[1;32m----> 9\u001b[0m sorted_contours, bounding_boxes \u001b[38;5;241m=\u001b[39m \u001b[43msort_contours\u001b[49m\u001b[43m(\u001b[49m\u001b[43mcell_contours\u001b[49m\u001b[43m)\u001b[49m\n",
      "Cell \u001b[1;32mIn[14], line 5\u001b[0m, in \u001b[0;36msort_contours\u001b[1;34m(cnts, method)\u001b[0m\n\u001b[0;32m      3\u001b[0m i \u001b[38;5;241m=\u001b[39m \u001b[38;5;241m1\u001b[39m  \u001b[38;5;66;03m# Sort by Y-coordinate for top-to-bottom\u001b[39;00m\n\u001b[0;32m      4\u001b[0m boundingBoxes \u001b[38;5;241m=\u001b[39m [cv2\u001b[38;5;241m.\u001b[39mboundingRect(c) \u001b[38;5;28;01mfor\u001b[39;00m c \u001b[38;5;129;01min\u001b[39;00m cnts]\n\u001b[1;32m----> 5\u001b[0m (cnts, boundingBoxes) \u001b[38;5;241m=\u001b[39m \u001b[38;5;28mzip\u001b[39m(\u001b[38;5;241m*\u001b[39m\u001b[38;5;28msorted\u001b[39m(\u001b[38;5;28mzip\u001b[39m(cnts, boundingBoxes),\n\u001b[0;32m      6\u001b[0m     key\u001b[38;5;241m=\u001b[39m\u001b[38;5;28;01mlambda\u001b[39;00m b:b[\u001b[38;5;241m1\u001b[39m][i], reverse\u001b[38;5;241m=\u001b[39mreverse))\n\u001b[0;32m      7\u001b[0m \u001b[38;5;28;01mreturn\u001b[39;00m cnts, boundingBoxes\n",
      "\u001b[1;31mValueError\u001b[0m: not enough values to unpack (expected 2, got 0)"
     ]
    }
   ],
   "source": [
    "def sort_contours(cnts, method=\"top-to-bottom\"):\n",
    "    reverse = False\n",
    "    i = 1  # Sort by Y-coordinate for top-to-bottom\n",
    "    boundingBoxes = [cv2.boundingRect(c) for c in cnts]\n",
    "    (cnts, boundingBoxes) = zip(*sorted(zip(cnts, boundingBoxes),\n",
    "        key=lambda b:b[1][i], reverse=reverse))\n",
    "    return cnts, boundingBoxes\n",
    "\n",
    "sorted_contours, bounding_boxes = sort_contours(cell_contours)"
   ]
  },
  {
   "cell_type": "code",
   "execution_count": 9,
   "metadata": {},
   "outputs": [],
   "source": [
    "if not os.path.exists('signature_blocks'):\n",
    "    os.makedirs('signature_blocks')"
   ]
  },
  {
   "cell_type": "code",
   "execution_count": 10,
   "metadata": {},
   "outputs": [],
   "source": [
    "row_contours = []\n",
    "current_row = []\n",
    "last_y = bounding_boxes[0][1]\n",
    "for contour, box in zip(sorted_contours, bounding_boxes):\n",
    "    if abs(box[1] - last_y) > 20:  # New row if Y-coordinate differs significantly\n",
    "        if current_row:\n",
    "            row_contours.append(current_row)\n",
    "        current_row = [contour]\n",
    "        last_y = box[1]\n",
    "    else:\n",
    "        current_row.append(contour)\n",
    "if current_row:\n",
    "    row_contours.append(current_row)"
   ]
  },
  {
   "cell_type": "code",
   "execution_count": null,
   "metadata": {},
   "outputs": [],
   "source": [
    "for i, row in enumerate(row_contours, 1):\n",
    "    folder_name = f'signature_{i}'\n",
    "    if not os.path.exists(folder_name):\n",
    "        os.makedirs(folder_name)\n",
    "    \n",
    "    # Sort contours in the row from left to right\n",
    "    row_sorted = sorted(row, key=lambda c: cv2.boundingRect(c)[0])\n",
    "    \n",
    "    for j, cnt in enumerate(row_sorted, 1):\n",
    "        x, y, w, h = cv2.boundingRect(cnt)\n",
    "        cell = image[y:y+h, x:x+w]\n",
    "        cv2.imwrite(f'{folder_name}/signature_{j}.jpg', cell)"
   ]
  }
 ],
 "metadata": {
  "kernelspec": {
   "display_name": "Python 3",
   "language": "python",
   "name": "python3"
  },
  "language_info": {
   "codemirror_mode": {
    "name": "ipython",
    "version": 3
   },
   "file_extension": ".py",
   "mimetype": "text/x-python",
   "name": "python",
   "nbconvert_exporter": "python",
   "pygments_lexer": "ipython3",
   "version": "3.12.4"
  }
 },
 "nbformat": 4,
 "nbformat_minor": 2
}
